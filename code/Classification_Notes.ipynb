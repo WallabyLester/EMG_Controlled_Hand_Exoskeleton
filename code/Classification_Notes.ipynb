{
 "cells": [
  {
   "cell_type": "markdown",
   "metadata": {},
   "source": [
    "# Various Classification Models"
   ]
  },
  {
   "cell_type": "code",
   "execution_count": 43,
   "metadata": {},
   "outputs": [],
   "source": [
    "import pandas as pd\n",
    "import numpy as np\n",
    "from sklearn.neighbors import KNeighborsClassifier\n",
    "from sklearn.ensemble import RandomForestClassifier\n",
    "from sklearn.model_selection import train_test_split, cross_val_score, GridSearchCV\n",
    "from sklearn.metrics import confusion_matrix\n",
    "from sklearn.neural_network import MLPClassifier\n",
    "import seaborn as sns\n",
    "import matplotlib.pyplot as plt\n",
    "import os\n",
    "import glob"
   ]
  },
  {
   "cell_type": "code",
   "execution_count": 45,
   "metadata": {
    "scrolled": false
   },
   "outputs": [],
   "source": [
    "path = os.getcwd()\n",
    "csv_files = glob.glob(os.path.join(path, \"./data/Combined_EMG_data*\"))\n",
    "data_list = []\n",
    "X_list = []\n",
    "y_list = []\n",
    "\n",
    "for i in csv_files:\n",
    "      \n",
    "    df = pd.read_csv(i)\n",
    "    data_list.append(df)\n",
    "\n",
    "for j in data_list:\n",
    "    X = j[['EMG Sensor 1', 'EMG Sensor 2', 'EMG Sensor 3', 'EMG Sensor 4']].to_numpy().reshape(-1,4)\n",
    "    y = j['Mode'].to_numpy()\n",
    "    X_list.append(X)\n",
    "    y_list.append(y)\n",
    "    \n",
    "X = np.vstack(X_list)\n",
    "y = np.hstack(y_list)\n",
    "\n",
    "X_train, X_test, y_train, y_test = train_test_split(X, y, test_size=0.20, random_state=42)"
   ]
  },
  {
   "cell_type": "markdown",
   "metadata": {},
   "source": [
    "## KNN"
   ]
  },
  {
   "cell_type": "code",
   "execution_count": 47,
   "metadata": {
    "scrolled": false
   },
   "outputs": [
    {
     "name": "stdout",
     "output_type": "stream",
     "text": [
      "K: 1 , Mean: 0.8605995525727069 , Std: 0.016013487201187237\n",
      "K: 2 , Mean: 0.8673020134228187 , Std: 0.012902561942496912\n",
      "K: 3 , Mean: 0.8820402684563758 , Std: 0.018285485851848762\n",
      "K: 4 , Mean: 0.8793646532438479 , Std: 0.017439207559177668\n",
      "K: 5 , Mean: 0.8820581655480983 , Std: 0.024854737151108693\n",
      "K: 6 , Mean: 0.8766979865771812 , Std: 0.019564116404566068\n",
      "K: 7 , Mean: 0.8793914988814319 , Std: 0.022227611516120998\n",
      "K: 8 , Mean: 0.8740313199105145 , Std: 0.020252629246267615\n",
      "K: 9 , Mean: 0.880724832214765 , Std: 0.024735833272451876\n",
      "K: 10 , Mean: 0.8820939597315436 , Std: 0.03078079176321168\n",
      "K: 11 , Mean: 0.8860939597315436 , Std: 0.03327338903822806\n",
      "K: 12 , Mean: 0.8887874720357942 , Std: 0.029657020072687838\n",
      "K: 13 , Mean: 0.8901118568232663 , Std: 0.0281965825968855\n",
      "K: 14 , Mean: 0.891463087248322 , Std: 0.031972196380308605\n",
      "K: 15 , Mean: 0.8860939597315436 , Std: 0.03662433755997683\n",
      "K: 16 , Mean: 0.8860939597315436 , Std: 0.03132088716917636\n",
      "K: 17 , Mean: 0.8847427293064877 , Std: 0.030323029354507414\n",
      "K: 18 , Mean: 0.8860850111856822 , Std: 0.027048598919386643\n",
      "K: 19 , Mean: 0.8847606263982103 , Std: 0.029008386711555062\n",
      "K: 20 , Mean: 0.8793825503355706 , Std: 0.03303972791288742\n",
      "K: 21 , Mean: 0.8793825503355706 , Std: 0.03048719014058771\n",
      "K: 22 , Mean: 0.8793736017897092 , Std: 0.027750016406429063\n",
      "K: 23 , Mean: 0.8807158836689037 , Std: 0.03291021640217782\n",
      "K: 24 , Mean: 0.8820402684563758 , Std: 0.03248149088517748\n",
      "K: 25 , Mean: 0.8820402684563758 , Std: 0.0319219804720757\n",
      "Max score: 0.891463087248322\n"
     ]
    }
   ],
   "source": [
    "m = []\n",
    "\n",
    "for i in (x+1 for x in range(0, 25)):\n",
    "    KNN = KNeighborsClassifier(n_neighbors=i)\n",
    "    KNN.fit(X_train,y_train)\n",
    "    scores = cross_val_score(KNN, X_train, y_train, cv=5)\n",
    "    print(f\"K: {i} , Mean: {scores.mean()} , Std: {scores.std()}\")\n",
    "    m.append(scores.mean())\n",
    "\n",
    "print(f\"Max score: {max(m)}\")"
   ]
  },
  {
   "cell_type": "code",
   "execution_count": 48,
   "metadata": {},
   "outputs": [
    {
     "name": "stdout",
     "output_type": "stream",
     "text": [
      "K: 15\n",
      "Score: 0.9144385026737968\n"
     ]
    }
   ],
   "source": [
    "KNN = KNeighborsClassifier(n_neighbors=15)\n",
    "\n",
    "KNN.fit(X_train, y_train)\n",
    "predictions = KNN.predict(X_test)\n",
    "probs = KNN.predict_proba(X_test)\n",
    "score = KNN.score(X_test, y_test)\n",
    "# print(f\"X_test: \\n{X_test}\")\n",
    "# # print(f\"Predictions: \\n{predictions}\")\n",
    "# print(f\"Probabilities: \\n{probs}\")\n",
    "print(f\"K: 15\")\n",
    "print(f\"Score: {score}\")"
   ]
  },
  {
   "cell_type": "code",
   "execution_count": 55,
   "metadata": {},
   "outputs": [
    {
     "name": "stdout",
     "output_type": "stream",
     "text": [
      "[0]\n",
      "[1]\n",
      "[2]\n",
      "[3]\n",
      "[4]\n"
     ]
    }
   ],
   "source": [
    "none = np.array([0.26,0.07,0.1,0.32]).reshape(-1,4)\n",
    "pred = KNN.predict(none)\n",
    "print(pred)\n",
    "\n",
    "index = np.array([0.9, 0.1, 0.4, 0.5]).reshape(-1,4)\n",
    "pred = KNN.predict(index)\n",
    "print(pred)\n",
    "\n",
    "middle = np.array([1.6, 0.2, 1.5, 1.6]).reshape(-1,4)\n",
    "pred = KNN.predict(middle)\n",
    "print(pred)\n",
    "\n",
    "fourth = np.array([1.9, 0.3, 0.6, 1.1]).reshape(-1,4)\n",
    "pred = KNN.predict(fourth)\n",
    "print(pred)\n",
    "\n",
    "pinky = np.array([0.6, 0.2, 0.6, 1.1]).reshape(-1,4)\n",
    "pred = KNN.predict(pinky)\n",
    "print(pred)"
   ]
  },
  {
   "cell_type": "markdown",
   "metadata": {},
   "source": [
    "## Random Forest"
   ]
  },
  {
   "cell_type": "code",
   "execution_count": 37,
   "metadata": {},
   "outputs": [
    {
     "data": {
      "text/plain": [
       "GridSearchCV(estimator=RandomForestClassifier(),\n",
       "             param_grid={'max_depth': range(1, 51),\n",
       "                         'n_estimators': range(1, 51)})"
      ]
     },
     "execution_count": 37,
     "metadata": {},
     "output_type": "execute_result"
    }
   ],
   "source": [
    "RFC = RandomForestClassifier()\n",
    "\n",
    "values = range(1,51)\n",
    "\n",
    "parameter_grid = {'n_estimators': values, 'max_depth': values}\n",
    "\n",
    "grid = GridSearchCV(estimator=RFC, param_grid=parameter_grid)\n",
    "\n",
    "grid.fit(X_train, y_train)\n"
   ]
  },
  {
   "cell_type": "code",
   "execution_count": 38,
   "metadata": {},
   "outputs": [
    {
     "name": "stdout",
     "output_type": "stream",
     "text": [
      "{'max_depth': 4, 'n_estimators': 35}\n"
     ]
    }
   ],
   "source": [
    "print(grid.best_params_)"
   ]
  },
  {
   "cell_type": "code",
   "execution_count": 52,
   "metadata": {},
   "outputs": [
    {
     "name": "stdout",
     "output_type": "stream",
     "text": [
      "Features importances: \n",
      "[0.37098283 0.05589384 0.24046042 0.3326629 ]\n",
      "Confusion matrix: \n",
      "[[93  0  0  0  2]\n",
      " [ 1 22  0  0  0]\n",
      " [ 0  1 16  0  2]\n",
      " [ 0  2  5 19  0]\n",
      " [ 0  0  0  2 22]]\n",
      "Score: 0.9197860962566845\n"
     ]
    }
   ],
   "source": [
    "RFC = RandomForestClassifier(n_estimators=35, max_depth=4)\n",
    "\n",
    "RFC.fit(X_train, y_train)\n",
    "\n",
    "y_pred = RFC.predict(X_test)\n",
    "\n",
    "print(f\"Features importances: \\n{RFC.feature_importances_}\")\n",
    "print(f\"Confusion matrix: \\n{confusion_matrix(y_test, y_pred)}\") # predicted vertical, actual horizontal\n",
    "print(f\"Score: {RFC.score(X_test, y_test)}\")"
   ]
  },
  {
   "cell_type": "code",
   "execution_count": 56,
   "metadata": {},
   "outputs": [
    {
     "name": "stdout",
     "output_type": "stream",
     "text": [
      "[0]\n",
      "[1]\n",
      "[2]\n",
      "[3]\n",
      "[3]\n"
     ]
    }
   ],
   "source": [
    "none = np.array([0.26,0.07,0.1,0.32]).reshape(-1,4)\n",
    "pred = RFC.predict(none)\n",
    "print(pred)\n",
    "\n",
    "index = np.array([0.9, 0.1, 0.4, 0.5]).reshape(-1,4)\n",
    "pred = RFC.predict(index)\n",
    "print(pred)\n",
    "\n",
    "middle = np.array([1.6, 0.2, 1.5, 1.6]).reshape(-1,4)\n",
    "pred = RFC.predict(middle)\n",
    "print(pred)\n",
    "\n",
    "fourth = np.array([1.9, 0.3, 0.6, 1.1]).reshape(-1,4)\n",
    "pred = RFC.predict(fourth)\n",
    "print(pred)\n",
    "\n",
    "pinky = np.array([0.6, 0.2, 0.6, 1.1]).reshape(-1,4)\n",
    "pred = RFC.predict(pinky)\n",
    "print(pred)"
   ]
  },
  {
   "cell_type": "markdown",
   "metadata": {},
   "source": [
    "## Multilayer Perceptron"
   ]
  },
  {
   "cell_type": "code",
   "execution_count": 51,
   "metadata": {},
   "outputs": [
    {
     "name": "stdout",
     "output_type": "stream",
     "text": [
      "Score: 0.9358288770053476\n"
     ]
    }
   ],
   "source": [
    "MLP = MLPClassifier(hidden_layer_sizes=(200,), activation='relu', solver='adam', random_state=1, max_iter=1200)\n",
    "MLP.fit(X_train, y_train)\n",
    "\n",
    "probs = MLP.predict_proba(X_test)\n",
    "preds = MLP.predict(X_test)\n",
    "score = MLP.score(X_test, y_test)\n",
    "\n",
    "print(f\"Score: {score}\")"
   ]
  },
  {
   "cell_type": "code",
   "execution_count": 57,
   "metadata": {},
   "outputs": [
    {
     "name": "stdout",
     "output_type": "stream",
     "text": [
      "[0]\n",
      "[1]\n",
      "[2]\n",
      "[3]\n",
      "[3]\n"
     ]
    }
   ],
   "source": [
    "none = np.array([0.26,0.07,0.1,0.32]).reshape(-1,4)\n",
    "pred = MLP.predict(none)\n",
    "print(pred)\n",
    "\n",
    "index = np.array([0.9, 0.1, 0.4, 0.5]).reshape(-1,4)\n",
    "pred = MLP.predict(index)\n",
    "print(pred)\n",
    "\n",
    "middle = np.array([1.6, 0.2, 1.5, 1.6]).reshape(-1,4)\n",
    "pred = MLP.predict(middle)\n",
    "print(pred)\n",
    "\n",
    "fourth = np.array([1.9, 0.3, 0.6, 1.1]).reshape(-1,4)\n",
    "pred = MLP.predict(fourth)\n",
    "print(pred)\n",
    "\n",
    "pinky = np.array([0.6, 0.2, 0.6, 1.1]).reshape(-1,4)\n",
    "pred = MLP.predict(pinky)\n",
    "print(pred)"
   ]
  },
  {
   "cell_type": "markdown",
   "metadata": {},
   "source": [
    "### True Test Values"
   ]
  },
  {
   "cell_type": "code",
   "execution_count": 70,
   "metadata": {},
   "outputs": [
    {
     "name": "stdout",
     "output_type": "stream",
     "text": [
      "[0]\n",
      "[1]\n",
      "[2]\n",
      "[3]\n",
      "[4]\n"
     ]
    }
   ],
   "source": [
    "none = np.array([0.18,0.07,0.27,0.26]).reshape(-1,4)\n",
    "pred = KNN.predict(none)\n",
    "print(pred)\n",
    "\n",
    "index = np.array([1.07, 0.08, 0.49, 0.61]).reshape(-1,4)\n",
    "pred = MLP.predict(index)\n",
    "print(pred)\n",
    "\n",
    "middle = np.array([2.02, 0.12, 0.76, 1.42]).reshape(-1,4)\n",
    "pred = MLP.predict(middle)\n",
    "print(pred)\n",
    "\n",
    "fourth = np.array([1.06, 0.16, 0.61, 1.25]).reshape(-1,4)\n",
    "pred = MLP.predict(fourth)\n",
    "print(pred)\n",
    "\n",
    "pinky = np.array([0.55, 0.1, 0.28, 0.88]).reshape(-1,4)\n",
    "pred = MLP.predict(pinky)\n",
    "print(pred)"
   ]
  },
  {
   "cell_type": "code",
   "execution_count": null,
   "metadata": {},
   "outputs": [],
   "source": []
  }
 ],
 "metadata": {
  "kernelspec": {
   "display_name": "Python 3 (ipykernel)",
   "language": "python",
   "name": "python3"
  },
  "language_info": {
   "codemirror_mode": {
    "name": "ipython",
    "version": 3
   },
   "file_extension": ".py",
   "mimetype": "text/x-python",
   "name": "python",
   "nbconvert_exporter": "python",
   "pygments_lexer": "ipython3",
   "version": "3.8.10"
  }
 },
 "nbformat": 4,
 "nbformat_minor": 4
}
