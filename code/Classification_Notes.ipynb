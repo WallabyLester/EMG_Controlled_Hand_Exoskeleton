{
 "cells": [
  {
   "cell_type": "markdown",
   "metadata": {},
   "source": [
    "# Various Classification Models"
   ]
  },
  {
   "cell_type": "code",
   "execution_count": 2,
   "metadata": {},
   "outputs": [],
   "source": [
    "import pandas as pd\n",
    "import numpy as np\n",
    "from sklearn.neighbors import KNeighborsClassifier\n",
    "from sklearn.ensemble import RandomForestClassifier\n",
    "from sklearn.model_selection import train_test_split, cross_val_score, GridSearchCV\n",
    "from sklearn.metrics import confusion_matrix\n",
    "from sklearn.neural_network import MLPClassifier\n",
    "import seaborn as sns\n",
    "import matplotlib.pyplot as plt"
   ]
  },
  {
   "cell_type": "code",
   "execution_count": 4,
   "metadata": {},
   "outputs": [
    {
     "data": {
      "text/html": [
       "<div>\n",
       "<style scoped>\n",
       "    .dataframe tbody tr th:only-of-type {\n",
       "        vertical-align: middle;\n",
       "    }\n",
       "\n",
       "    .dataframe tbody tr th {\n",
       "        vertical-align: top;\n",
       "    }\n",
       "\n",
       "    .dataframe thead th {\n",
       "        text-align: right;\n",
       "    }\n",
       "</style>\n",
       "<table border=\"1\" class=\"dataframe\">\n",
       "  <thead>\n",
       "    <tr style=\"text-align: right;\">\n",
       "      <th></th>\n",
       "      <th>EMG Sensor 1</th>\n",
       "      <th>EMG Sensor 2</th>\n",
       "      <th>EMG Sensor 3</th>\n",
       "      <th>EMG Sensor 4</th>\n",
       "      <th>Mode</th>\n",
       "    </tr>\n",
       "  </thead>\n",
       "  <tbody>\n",
       "    <tr>\n",
       "      <th>0</th>\n",
       "      <td>0.35</td>\n",
       "      <td>0.07</td>\n",
       "      <td>0.11</td>\n",
       "      <td>0.29</td>\n",
       "      <td>0</td>\n",
       "    </tr>\n",
       "    <tr>\n",
       "      <th>1</th>\n",
       "      <td>0.26</td>\n",
       "      <td>0.07</td>\n",
       "      <td>0.10</td>\n",
       "      <td>0.32</td>\n",
       "      <td>0</td>\n",
       "    </tr>\n",
       "    <tr>\n",
       "      <th>2</th>\n",
       "      <td>0.21</td>\n",
       "      <td>0.07</td>\n",
       "      <td>0.11</td>\n",
       "      <td>0.28</td>\n",
       "      <td>0</td>\n",
       "    </tr>\n",
       "    <tr>\n",
       "      <th>3</th>\n",
       "      <td>0.23</td>\n",
       "      <td>0.07</td>\n",
       "      <td>0.13</td>\n",
       "      <td>0.33</td>\n",
       "      <td>0</td>\n",
       "    </tr>\n",
       "    <tr>\n",
       "      <th>4</th>\n",
       "      <td>0.86</td>\n",
       "      <td>0.07</td>\n",
       "      <td>0.25</td>\n",
       "      <td>0.49</td>\n",
       "      <td>1</td>\n",
       "    </tr>\n",
       "  </tbody>\n",
       "</table>\n",
       "</div>"
      ],
      "text/plain": [
       "   EMG Sensor 1  EMG Sensor 2  EMG Sensor 3  EMG Sensor 4  Mode\n",
       "0          0.35          0.07          0.11          0.29     0\n",
       "1          0.26          0.07          0.10          0.32     0\n",
       "2          0.21          0.07          0.11          0.28     0\n",
       "3          0.23          0.07          0.13          0.33     0\n",
       "4          0.86          0.07          0.25          0.49     1"
      ]
     },
     "execution_count": 4,
     "metadata": {},
     "output_type": "execute_result"
    }
   ],
   "source": [
    "df1 = pd.read_csv('./data/Combined_EMG_data1.csv')\n",
    "df2 = pd.read_csv('./data/Combined_EMG_data2.csv')\n",
    "df3 = pd.read_csv('./data/Combined_EMG_data3.csv')\n",
    "df4 = pd.read_csv('./data/Combined_EMG_data4.csv')\n",
    "df5 = pd.read_csv('./data/Combined_EMG_data5.csv')\n",
    "df6 = pd.read_csv('./data/Combined_EMG_data6.csv')\n",
    "df7 = pd.read_csv('./data/Combined_EMG_data7.csv')\n",
    "df8 = pd.read_csv('./data/Combined_EMG_data8.csv')\n",
    "df9 = pd.read_csv('./data/Combined_EMG_data9.csv')\n",
    "df10 = pd.read_csv('./data/Combined_EMG_data10.csv')\n",
    "df1.head()"
   ]
  },
  {
   "cell_type": "code",
   "execution_count": 5,
   "metadata": {
    "scrolled": false
   },
   "outputs": [],
   "source": [
    "# separate the features and the labels into X and y variables\n",
    "X1 = df1[['EMG Sensor 1', 'EMG Sensor 2', 'EMG Sensor 3', 'EMG Sensor 4']].to_numpy().reshape(-1,4)\n",
    "X2 = df2[['EMG Sensor 1', 'EMG Sensor 2', 'EMG Sensor 3', 'EMG Sensor 4']].to_numpy().reshape(-1,4)\n",
    "X3 = df3[['EMG Sensor 1', 'EMG Sensor 2', 'EMG Sensor 3', 'EMG Sensor 4']].to_numpy().reshape(-1,4)\n",
    "X4 = df4[['EMG Sensor 1', 'EMG Sensor 2', 'EMG Sensor 3', 'EMG Sensor 4']].to_numpy().reshape(-1,4)\n",
    "X5 = df5[['EMG Sensor 1', 'EMG Sensor 2', 'EMG Sensor 3', 'EMG Sensor 4']].to_numpy().reshape(-1,4)\n",
    "X6 = df6[['EMG Sensor 1', 'EMG Sensor 2', 'EMG Sensor 3', 'EMG Sensor 4']].to_numpy().reshape(-1,4)\n",
    "X7 = df7[['EMG Sensor 1', 'EMG Sensor 2', 'EMG Sensor 3', 'EMG Sensor 4']].to_numpy().reshape(-1,4)\n",
    "X8 = df8[['EMG Sensor 1', 'EMG Sensor 2', 'EMG Sensor 3', 'EMG Sensor 4']].to_numpy().reshape(-1,4)\n",
    "X9 = df9[['EMG Sensor 1', 'EMG Sensor 2', 'EMG Sensor 3', 'EMG Sensor 4']].to_numpy().reshape(-1,4)\n",
    "X10 = df10[['EMG Sensor 1', 'EMG Sensor 2', 'EMG Sensor 3', 'EMG Sensor 4']].to_numpy().reshape(-1,4)\n",
    "y1 = df1['Mode'].to_numpy()\n",
    "y2 = df2['Mode'].to_numpy()\n",
    "y3 = df3['Mode'].to_numpy()\n",
    "y4 = df4['Mode'].to_numpy()\n",
    "y5 = df5['Mode'].to_numpy()\n",
    "y6 = df6['Mode'].to_numpy()\n",
    "y7 = df7['Mode'].to_numpy()\n",
    "y8 = df8['Mode'].to_numpy()\n",
    "y9 = df9['Mode'].to_numpy()\n",
    "y10 = df10['Mode'].to_numpy()\n",
    "\n",
    "\n",
    "X = np.vstack((X1, X2, X3, X4, X5, X6, X7, X8, X9, X10))\n",
    "y = np.hstack((y1, y2, y3, y4, y5, y6, y7, y8, y9, y10))\n",
    "\n",
    "# Separate the data into training and test sets\n",
    "X_train, X_test, y_train, y_test = train_test_split(X, y, test_size=0.30, random_state=42)\n"
   ]
  },
  {
   "cell_type": "markdown",
   "metadata": {},
   "source": [
    "## KNN"
   ]
  },
  {
   "cell_type": "code",
   "execution_count": 18,
   "metadata": {
    "scrolled": false
   },
   "outputs": [
    {
     "name": "stdout",
     "output_type": "stream",
     "text": [
      "K: 1 , Mean: 0.8591426893716969 , Std: 0.027092766500194022\n",
      "K: 2 , Mean: 0.8484674104521434 , Std: 0.03434494325474813\n",
      "K: 3 , Mean: 0.8805637110980623 , Std: 0.01962963512213646\n",
      "K: 4 , Mean: 0.8852025836758661 , Std: 0.02917933875981201\n",
      "K: 5 , Mean: 0.8836523781561949 , Std: 0.025587049312491738\n",
      "K: 6 , Mean: 0.8836523781561949 , Std: 0.035853464876435356\n",
      "K: 7 , Mean: 0.8897475044039929 , Std: 0.03082605144724297\n",
      "K: 8 , Mean: 0.8882325308279508 , Std: 0.025804324915465658\n",
      "K: 9 , Mean: 0.8928479154433354 , Std: 0.02494567575042592\n",
      "K: 10 , Mean: 0.8867058132706986 , Std: 0.03492336188238925\n",
      "K: 11 , Mean: 0.8897709923664123 , Std: 0.036278418255073316\n",
      "K: 12 , Mean: 0.8867058132706986 , Std: 0.033561980650484095\n",
      "K: 13 , Mean: 0.8897709923664123 , Std: 0.032193472182035415\n",
      "K: 14 , Mean: 0.8897592483852026 , Std: 0.031142319043034362\n",
      "K: 15 , Mean: 0.8943511450381681 , Std: 0.03143147511561248\n",
      "K: 16 , Mean: 0.8882207868467411 , Std: 0.029610734014391987\n",
      "K: 17 , Mean: 0.8928126834997064 , Std: 0.03165837541946051\n",
      "K: 18 , Mean: 0.8912859659424545 , Std: 0.031048199047949677\n",
      "K: 19 , Mean: 0.8867058132706986 , Std: 0.028657181576185308\n",
      "K: 20 , Mean: 0.8867058132706986 , Std: 0.027449369851493325\n",
      "K: 21 , Mean: 0.8836406341749854 , Std: 0.029523574606810755\n",
      "K: 22 , Mean: 0.8866823253082794 , Std: 0.03040172651982544\n",
      "K: 23 , Mean: 0.8836288901937757 , Std: 0.026636954552963697\n",
      "K: 24 , Mean: 0.8836288901937757 , Std: 0.026636954552963697\n",
      "K: 25 , Mean: 0.8820904286553141 , Std: 0.028052902758656097\n",
      "Max score: 0.8943511450381681\n"
     ]
    }
   ],
   "source": [
    "m = []\n",
    "\n",
    "for i in (x+1 for x in range(0, 25)):\n",
    "    KNN = KNeighborsClassifier(n_neighbors=i)\n",
    "    KNN.fit(X_train,y_train)\n",
    "    scores = cross_val_score(KNN, X_train, y_train, cv=5)\n",
    "    print(f\"K: {i} , Mean: {scores.mean()} , Std: {scores.std()}\")\n",
    "    m.append(scores.mean())\n",
    "\n",
    "print(f\"Max score: {max(m)}\")"
   ]
  },
  {
   "cell_type": "code",
   "execution_count": 19,
   "metadata": {},
   "outputs": [
    {
     "name": "stdout",
     "output_type": "stream",
     "text": [
      "K: 15\n",
      "Score: 0.9035714285714286\n"
     ]
    }
   ],
   "source": [
    "KNN = KNeighborsClassifier(n_neighbors=15)\n",
    "\n",
    "KNN.fit(X_train, y_train)\n",
    "predictions = KNN.predict(X_test)\n",
    "probs = KNN.predict_proba(X_test)\n",
    "score = KNN.score(X_test, y_test)\n",
    "# print(f\"X_test: \\n{X_test}\")\n",
    "# # print(f\"Predictions: \\n{predictions}\")\n",
    "# print(f\"Probabilities: \\n{probs}\")\n",
    "print(f\"K: 15\")\n",
    "print(f\"Score: {score}\")"
   ]
  },
  {
   "cell_type": "code",
   "execution_count": 54,
   "metadata": {},
   "outputs": [
    {
     "name": "stdout",
     "output_type": "stream",
     "text": [
      "[1]\n",
      "[2]\n",
      "[3]\n",
      "[4]\n"
     ]
    }
   ],
   "source": [
    "index = np.array([0.9, 0.1, 0.4, 0.5]).reshape(-1,4)\n",
    "pred = mod.predict(index)\n",
    "print(pred)\n",
    "\n",
    "middle = np.array([1.6, 0.2, 1.5, 1.6]).reshape(-1,4)\n",
    "pred = mod.predict(middle)\n",
    "print(pred)\n",
    "\n",
    "fourth = np.array([1.9, 0.3, 0.6, 1.1]).reshape(-1,4)\n",
    "pred = mod.predict(fourth)\n",
    "print(pred)\n",
    "\n",
    "pinky = np.array([0.6, 0.2, 0.6, 1.1]).reshape(-1,4)\n",
    "pred = mod.predict(pinky)\n",
    "print(pred)"
   ]
  },
  {
   "cell_type": "markdown",
   "metadata": {},
   "source": [
    "## Random Forest"
   ]
  },
  {
   "cell_type": "code",
   "execution_count": 10,
   "metadata": {},
   "outputs": [
    {
     "data": {
      "text/plain": [
       "GridSearchCV(estimator=RandomForestClassifier(),\n",
       "             param_grid={'max_depth': range(1, 51),\n",
       "                         'n_estimators': range(1, 51)})"
      ]
     },
     "execution_count": 10,
     "metadata": {},
     "output_type": "execute_result"
    }
   ],
   "source": [
    "RFC = RandomForestClassifier()\n",
    "\n",
    "values = range(1,51)\n",
    "\n",
    "parameter_grid = {'n_estimators': values, 'max_depth': values}\n",
    "\n",
    "grid = GridSearchCV(estimator=RFC, param_grid=parameter_grid)\n",
    "\n",
    "grid.fit(X_train, y_train)\n"
   ]
  },
  {
   "cell_type": "code",
   "execution_count": 11,
   "metadata": {},
   "outputs": [
    {
     "name": "stdout",
     "output_type": "stream",
     "text": [
      "{'max_depth': 5, 'n_estimators': 35}\n"
     ]
    }
   ],
   "source": [
    "print(grid.best_params_)"
   ]
  },
  {
   "cell_type": "code",
   "execution_count": 13,
   "metadata": {},
   "outputs": [
    {
     "name": "stdout",
     "output_type": "stream",
     "text": [
      "Features importances: \n",
      "[0.34661151 0.09006318 0.25028285 0.31304246]\n",
      "Confusion matrix: \n",
      "[[144   0   0   0   4]\n",
      " [  1  33   0   0   0]\n",
      " [  0   0  28   5   2]\n",
      " [  0   2   5  22   2]\n",
      " [  0   1   1   2  28]]\n",
      "Score: 0.9107142857142857\n"
     ]
    }
   ],
   "source": [
    "RFC = RandomForestClassifier(n_estimators=35, max_depth=5)\n",
    "\n",
    "RFC.fit(X_train, y_train)\n",
    "\n",
    "y_pred = RFC.predict(X_test)\n",
    "\n",
    "print(f\"Features importances: \\n{RFC.feature_importances_}\")\n",
    "print(f\"Confusion matrix: \\n{confusion_matrix(y_test, y_pred)}\") # predicted vertical, actual horizontal\n",
    "print(f\"Score: {RFC.score(X_test, y_test)}\")"
   ]
  },
  {
   "cell_type": "code",
   "execution_count": 55,
   "metadata": {},
   "outputs": [
    {
     "name": "stdout",
     "output_type": "stream",
     "text": [
      "[1]\n",
      "[2]\n",
      "[3]\n",
      "[4]\n"
     ]
    }
   ],
   "source": [
    "index = np.array([0.9, 0.1, 0.4, 0.5]).reshape(-1,4)\n",
    "pred = RFC.predict(index)\n",
    "print(pred)\n",
    "\n",
    "middle = np.array([1.6, 0.2, 1.5, 1.6]).reshape(-1,4)\n",
    "pred = RFC.predict(middle)\n",
    "print(pred)\n",
    "\n",
    "fourth = np.array([1.9, 0.3, 0.6, 1.1]).reshape(-1,4)\n",
    "pred = RFC.predict(fourth)\n",
    "print(pred)\n",
    "\n",
    "pinky = np.array([0.6, 0.2, 0.6, 1.1]).reshape(-1,4)\n",
    "pred = RFC.predict(pinky)\n",
    "print(pred)"
   ]
  },
  {
   "cell_type": "markdown",
   "metadata": {},
   "source": [
    "## Multilayer Perceptron"
   ]
  },
  {
   "cell_type": "code",
   "execution_count": 6,
   "metadata": {},
   "outputs": [
    {
     "name": "stdout",
     "output_type": "stream",
     "text": [
      "Score: 0.9357142857142857\n"
     ]
    }
   ],
   "source": [
    "MLP = MLPClassifier(hidden_layer_sizes=(200,), activation='relu', solver='adam', random_state=1, max_iter=800)\n",
    "MLP.fit(X_train, y_train)\n",
    "\n",
    "probs = MLP.predict_proba(X_test)\n",
    "preds = MLP.predict(X_test)\n",
    "score = MLP.score(X_test, y_test)\n",
    "\n",
    "print(f\"Score: {score}\")"
   ]
  },
  {
   "cell_type": "code",
   "execution_count": 7,
   "metadata": {},
   "outputs": [
    {
     "name": "stdout",
     "output_type": "stream",
     "text": [
      "[1]\n",
      "[2]\n",
      "[3]\n",
      "[4]\n"
     ]
    }
   ],
   "source": [
    "index = np.array([0.9, 0.1, 0.4, 0.5]).reshape(-1,4)\n",
    "pred = MLP.predict(index)\n",
    "print(pred)\n",
    "\n",
    "middle = np.array([1.6, 0.2, 1.5, 1.6]).reshape(-1,4)\n",
    "pred = MLP.predict(middle)\n",
    "print(pred)\n",
    "\n",
    "fourth = np.array([1.9, 0.3, 0.6, 1.1]).reshape(-1,4)\n",
    "pred = MLP.predict(fourth)\n",
    "print(pred)\n",
    "\n",
    "pinky = np.array([0.6, 0.2, 0.6, 1.1]).reshape(-1,4)\n",
    "pred = MLP.predict(pinky)\n",
    "print(pred)"
   ]
  },
  {
   "cell_type": "markdown",
   "metadata": {},
   "source": [
    "### True Test Values"
   ]
  },
  {
   "cell_type": "code",
   "execution_count": 12,
   "metadata": {},
   "outputs": [
    {
     "name": "stdout",
     "output_type": "stream",
     "text": [
      "[1]\n",
      "[2]\n",
      "[3]\n",
      "[4]\n"
     ]
    }
   ],
   "source": [
    "index = np.array([1.07, 0.08, 0.49, 0.61]).reshape(-1,4)\n",
    "pred = MLP.predict(index)\n",
    "print(pred)\n",
    "\n",
    "middle = np.array([2.02, 0.12, 0.76, 1.42]).reshape(-1,4)\n",
    "pred = MLP.predict(middle)\n",
    "print(pred)\n",
    "\n",
    "fourth = np.array([1.06, 0.16, 0.61, 1.25]).reshape(-1,4)\n",
    "pred = MLP.predict(fourth)\n",
    "print(pred)\n",
    "\n",
    "pinky = np.array([0.55, 0.1, 0.28, 0.88]).reshape(-1,4)\n",
    "pred = MLP.predict(pinky)\n",
    "print(pred)"
   ]
  },
  {
   "cell_type": "code",
   "execution_count": null,
   "metadata": {},
   "outputs": [],
   "source": []
  }
 ],
 "metadata": {
  "kernelspec": {
   "display_name": "Python 3 (ipykernel)",
   "language": "python",
   "name": "python3"
  },
  "language_info": {
   "codemirror_mode": {
    "name": "ipython",
    "version": 3
   },
   "file_extension": ".py",
   "mimetype": "text/x-python",
   "name": "python",
   "nbconvert_exporter": "python",
   "pygments_lexer": "ipython3",
   "version": "3.8.10"
  }
 },
 "nbformat": 4,
 "nbformat_minor": 4
}
