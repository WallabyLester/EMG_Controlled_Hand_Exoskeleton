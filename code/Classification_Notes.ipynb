{
 "cells": [
  {
   "cell_type": "markdown",
   "metadata": {},
   "source": [
    "# Various Classification Models"
   ]
  },
  {
   "cell_type": "code",
   "execution_count": 46,
   "metadata": {},
   "outputs": [],
   "source": [
    "import pandas as pd\n",
    "import numpy as np\n",
    "from sklearn.neighbors import KNeighborsClassifier\n",
    "from sklearn.ensemble import RandomForestClassifier\n",
    "from sklearn.model_selection import train_test_split, cross_val_score, GridSearchCV\n",
    "from sklearn.metrics import confusion_matrix\n",
    "from sklearn.neural_network import MLPClassifier\n",
    "from sklearn.metrics import classification_report\n",
    "import seaborn as sns\n",
    "import matplotlib.pyplot as plt\n",
    "import os\n",
    "import glob"
   ]
  },
  {
   "cell_type": "code",
   "execution_count": 3,
   "metadata": {},
   "outputs": [
    {
     "name": "stdout",
     "output_type": "stream",
     "text": [
      "Number of CPUs: 8\n"
     ]
    }
   ],
   "source": [
    "n_cpu = os.cpu_count()\n",
    "print(\"Number of CPUs:\", n_cpu)"
   ]
  },
  {
   "cell_type": "code",
   "execution_count": 4,
   "metadata": {
    "scrolled": false
   },
   "outputs": [],
   "source": [
    "path = os.getcwd()\n",
    "csv_files = glob.glob(os.path.join(path, \"./data/Combined_EMG_data*\"))\n",
    "data_list = []\n",
    "X_list = []\n",
    "y_list = []\n",
    "\n",
    "for i in csv_files:\n",
    "      \n",
    "    df = pd.read_csv(i)\n",
    "    data_list.append(df)\n",
    "\n",
    "for j in data_list:\n",
    "    X = j[['EMG Sensor 1', 'EMG Sensor 2', 'EMG Sensor 3', 'EMG Sensor 4']].to_numpy().reshape(-1,4)\n",
    "    y = j['Mode'].to_numpy()\n",
    "    X_list.append(X)\n",
    "    y_list.append(y)\n",
    "    \n",
    "X = np.vstack(X_list)\n",
    "y = np.hstack(y_list)\n",
    "\n",
    "X_train, X_test, y_train, y_test = train_test_split(X, y, test_size=0.20, random_state=42)"
   ]
  },
  {
   "cell_type": "markdown",
   "metadata": {},
   "source": [
    "## KNN"
   ]
  },
  {
   "cell_type": "code",
   "execution_count": 11,
   "metadata": {},
   "outputs": [
    {
     "name": "stdout",
     "output_type": "stream",
     "text": [
      "K: 14\n",
      "Score: 0.9144385026737968\n"
     ]
    }
   ],
   "source": [
    "KNN = KNeighborsClassifier()\n",
    "values = range(1,31)\n",
    "parameter_grid = {'n_neighbors': values}\n",
    "\n",
    "grid = GridSearchCV(estimator=KNN, param_grid=parameter_grid, cv=10)\n",
    "\n",
    "grid.fit(X_train, y_train)\n",
    "\n",
    "KNN = KNeighborsClassifier(n_neighbors=grid.best_params_['n_neighbors'])\n",
    "\n",
    "KNN.fit(X_train, y_train)\n",
    "y_pred = KNN.predict(X_test)\n",
    "probs = KNN.predict_proba(X_test)\n",
    "score = KNN.score(X_test, y_test)\n",
    "\n",
    "# print(f\"Predictions: \\n{y_pred}\")\n",
    "# print(f\"Probabilities: \\n{probs}\")\n",
    "print(f\"K: {grid.best_params_['n_neighbors']}\")\n",
    "print(f\"Score: {score}\")"
   ]
  },
  {
   "cell_type": "code",
   "execution_count": 12,
   "metadata": {},
   "outputs": [
    {
     "name": "stdout",
     "output_type": "stream",
     "text": [
      "[0]\n",
      "[1]\n",
      "[2]\n",
      "[3]\n",
      "[4]\n"
     ]
    }
   ],
   "source": [
    "none = np.array([0.26,0.07,0.1,0.32]).reshape(-1,4)\n",
    "pred = KNN.predict(none)\n",
    "print(pred)\n",
    "\n",
    "index = np.array([0.9, 0.1, 0.4, 0.5]).reshape(-1,4)\n",
    "pred = KNN.predict(index)\n",
    "print(pred)\n",
    "\n",
    "middle = np.array([1.6, 0.2, 1.5, 1.6]).reshape(-1,4)\n",
    "pred = KNN.predict(middle)\n",
    "print(pred)\n",
    "\n",
    "fourth = np.array([1.9, 0.3, 0.6, 1.1]).reshape(-1,4)\n",
    "pred = KNN.predict(fourth)\n",
    "print(pred)\n",
    "\n",
    "pinky = np.array([0.6, 0.2, 0.6, 1.1]).reshape(-1,4)\n",
    "pred = KNN.predict(pinky)\n",
    "print(pred)"
   ]
  },
  {
   "cell_type": "markdown",
   "metadata": {},
   "source": [
    "## Random Forest"
   ]
  },
  {
   "cell_type": "code",
   "execution_count": 31,
   "metadata": {},
   "outputs": [
    {
     "name": "stdout",
     "output_type": "stream",
     "text": [
      "Features importances: \n",
      "[0.39788865 0.04189598 0.17134004 0.38887534]\n",
      "Confusion matrix: \n",
      "[[93  0  0  0  2]\n",
      " [ 0 23  0  0  0]\n",
      " [ 0  1 15  1  2]\n",
      " [ 0  1  7 18  0]\n",
      " [ 0  0  1  1 22]]\n",
      "Number of estimators: 19\n",
      "Max depth: 4\n",
      "Score: 0.9144385026737968\n"
     ]
    }
   ],
   "source": [
    "RFC = RandomForestClassifier()\n",
    "\n",
    "values = range(1,31)\n",
    "\n",
    "parameter_grid = {'n_estimators': values, 'max_depth': values}\n",
    "\n",
    "grid = GridSearchCV(estimator=RFC, param_grid=parameter_grid, n_jobs=n_cpu-1, cv=5)\n",
    "\n",
    "grid.fit(X_train, y_train)\n",
    "\n",
    "RFC = RandomForestClassifier(n_estimators=grid.best_params_['n_estimators'], max_depth=grid.best_params_['max_depth'])\n",
    "\n",
    "RFC.fit(X_train, y_train)\n",
    "\n",
    "y_pred = RFC.predict(X_test)\n",
    "\n",
    "print(f\"Features importances: \\n{RFC.feature_importances_}\")\n",
    "print(f\"Confusion matrix: \\n{confusion_matrix(y_test, y_pred)}\") # predicted vertical, actual horizontal\n",
    "print(f\"Number of estimators: {grid.best_params_['n_estimators']}\")\n",
    "print(f\"Max depth: {grid.best_params_['max_depth']}\")\n",
    "print(f\"Score: {RFC.score(X_test, y_test)}\")"
   ]
  },
  {
   "cell_type": "code",
   "execution_count": 32,
   "metadata": {},
   "outputs": [
    {
     "name": "stdout",
     "output_type": "stream",
     "text": [
      "[0]\n",
      "[1]\n",
      "[2]\n",
      "[3]\n",
      "[4]\n"
     ]
    }
   ],
   "source": [
    "none = np.array([0.26,0.07,0.1,0.32]).reshape(-1,4)\n",
    "pred = RFC.predict(none)\n",
    "print(pred)\n",
    "\n",
    "index = np.array([0.9, 0.1, 0.4, 0.5]).reshape(-1,4)\n",
    "pred = RFC.predict(index)\n",
    "print(pred)\n",
    "\n",
    "middle = np.array([1.6, 0.2, 1.5, 1.6]).reshape(-1,4)\n",
    "pred = RFC.predict(middle)\n",
    "print(pred)\n",
    "\n",
    "fourth = np.array([1.9, 0.3, 0.6, 1.1]).reshape(-1,4)\n",
    "pred = RFC.predict(fourth)\n",
    "print(pred)\n",
    "\n",
    "pinky = np.array([0.6, 0.2, 0.6, 1.1]).reshape(-1,4)\n",
    "pred = RFC.predict(pinky)\n",
    "print(pred)"
   ]
  },
  {
   "cell_type": "markdown",
   "metadata": {},
   "source": [
    "## Multilayer Perceptron"
   ]
  },
  {
   "cell_type": "code",
   "execution_count": 59,
   "metadata": {},
   "outputs": [
    {
     "name": "stdout",
     "output_type": "stream",
     "text": [
      "Hidden layer sizes: (300,)\n",
      "Activation: relu\n",
      "Solver: adam\n",
      "Score: 0.9411764705882353\n"
     ]
    }
   ],
   "source": [
    "# 3 layers: input layer, output layer, and hidden layer\n",
    "# input layers receives input signal, output performs prediction and classifiation, hiden layers perform computations\n",
    "# hidden_layer_sizes - determines number of hidden layers to use and neurons in each\n",
    "\n",
    "MLP = MLPClassifier(random_state=1, max_iter=4000)\n",
    "\n",
    "parameter_grid = {\n",
    "    'hidden_layer_sizes': [(200,),(300,),(400,),(50,100,),(100,100,),(50,75,100,)],\n",
    "    'activation': ['tanh', 'relu'],\n",
    "    'solver': ['sgd', 'adam'],\n",
    "} \n",
    "\n",
    "grid = GridSearchCV(MLP, parameter_grid, n_jobs=n_cpu-1, cv=5) \n",
    "grid.fit(X_train, y_train) \n",
    "\n",
    "MLP = MLPClassifier(hidden_layer_sizes=grid.best_params_['hidden_layer_sizes'], activation=grid.best_params_['activation'], solver=grid.best_params_['solver'], random_state=1, max_iter=4000)\n",
    "MLP.fit(X_train, y_train)\n",
    "\n",
    "probs = MLP.predict_proba(X_test)\n",
    "preds = MLP.predict(X_test)\n",
    "score = MLP.score(X_test, y_test)\n",
    "\n",
    "print(f\"Hidden layer sizes: {grid.best_params_['hidden_layer_sizes']}\")\n",
    "print(f\"Activation: {grid.best_params_['activation']}\")\n",
    "print(f\"Solver: {grid.best_params_['solver']}\")\n",
    "print(f\"Score: {score}\")"
   ]
  },
  {
   "cell_type": "code",
   "execution_count": 73,
   "metadata": {},
   "outputs": [
    {
     "name": "stdout",
     "output_type": "stream",
     "text": [
      "Results on the test set:\n",
      "              precision    recall  f1-score   support\n",
      "\n",
      "           0       1.00      0.99      0.99        95\n",
      "           1       0.82      1.00      0.90        23\n",
      "           2       0.88      0.74      0.80        19\n",
      "           3       0.95      0.81      0.88        26\n",
      "           4       0.89      1.00      0.94        24\n",
      "\n",
      "    accuracy                           0.94       187\n",
      "   macro avg       0.91      0.91      0.90       187\n",
      "weighted avg       0.94      0.94      0.94       187\n",
      "\n"
     ]
    }
   ],
   "source": [
    "y_true, y_pred = y_test , MLP.predict(X_test)\n",
    "\n",
    "print('Results on the test set:')\n",
    "print(classification_report(y_true, y_pred))"
   ]
  },
  {
   "cell_type": "code",
   "execution_count": 72,
   "metadata": {},
   "outputs": [
    {
     "name": "stdout",
     "output_type": "stream",
     "text": [
      "[0]\n",
      "[1]\n",
      "[2]\n",
      "[3]\n",
      "[4]\n"
     ]
    }
   ],
   "source": [
    "none = np.array([0.26,0.07,0.1,0.32]).reshape(-1,4)\n",
    "pred = MLP.predict(none)\n",
    "print(pred)\n",
    "\n",
    "index = np.array([0.9, 0.1, 0.4, 0.5]).reshape(-1,4)\n",
    "pred = MLP.predict(index)\n",
    "print(pred)\n",
    "\n",
    "middle = np.array([1.6, 0.2, 1.5, 1.6]).reshape(-1,4)\n",
    "pred = MLP.predict(middle)\n",
    "print(pred)\n",
    "\n",
    "fourth = np.array([1.9, 0.3, 0.6, 1.1]).reshape(-1,4)\n",
    "pred = MLP.predict(fourth)\n",
    "print(pred)\n",
    "\n",
    "pinky = np.array([0.6, 0.2, 0.6, 1.1]).reshape(-1,4)\n",
    "pred = RFC.predict(pinky)\n",
    "print(pred)"
   ]
  },
  {
   "cell_type": "markdown",
   "metadata": {},
   "source": [
    "### True Test Values"
   ]
  },
  {
   "cell_type": "code",
   "execution_count": 71,
   "metadata": {},
   "outputs": [
    {
     "name": "stdout",
     "output_type": "stream",
     "text": [
      "[0]\n",
      "[1]\n",
      "[2]\n",
      "[3]\n",
      "[4]\n"
     ]
    }
   ],
   "source": [
    "none = np.array([0.18,0.07,0.27,0.26]).reshape(-1,4)\n",
    "pred = KNN.predict(none)\n",
    "print(pred)\n",
    "\n",
    "index = np.array([1.07, 0.08, 0.49, 0.61]).reshape(-1,4)\n",
    "pred = MLP.predict(index)\n",
    "print(pred)\n",
    "\n",
    "middle = np.array([2.02, 0.12, 0.76, 1.42]).reshape(-1,4)\n",
    "pred = MLP.predict(middle)\n",
    "print(pred)\n",
    "\n",
    "fourth = np.array([1.06, 0.16, 0.61, 1.25]).reshape(-1,4)\n",
    "pred = MLP.predict(fourth)\n",
    "print(pred)\n",
    "\n",
    "pinky = np.array([0.55, 0.1, 0.28, 0.88]).reshape(-1,4)\n",
    "pred = MLP.predict(pinky)\n",
    "print(pred)"
   ]
  },
  {
   "cell_type": "code",
   "execution_count": null,
   "metadata": {},
   "outputs": [],
   "source": []
  }
 ],
 "metadata": {
  "kernelspec": {
   "display_name": "Python 3 (ipykernel)",
   "language": "python",
   "name": "python3"
  },
  "language_info": {
   "codemirror_mode": {
    "name": "ipython",
    "version": 3
   },
   "file_extension": ".py",
   "mimetype": "text/x-python",
   "name": "python",
   "nbconvert_exporter": "python",
   "pygments_lexer": "ipython3",
   "version": "3.8.10"
  }
 },
 "nbformat": 4,
 "nbformat_minor": 4
}
